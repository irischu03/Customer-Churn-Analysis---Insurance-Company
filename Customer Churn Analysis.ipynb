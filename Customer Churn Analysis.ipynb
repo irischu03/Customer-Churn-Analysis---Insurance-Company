{
 "cells": [
  {
   "cell_type": "code",
   "execution_count": 1,
   "metadata": {},
   "outputs": [],
   "source": [
    "#import package\n",
    "import numpy as np  \n",
    "import pandas as pd \n",
    "import os\n",
    "import matplotlib.pyplot as plt \n",
    "%matplotlib inline\n",
    "import seaborn as sns   \n",
    "import warnings\n",
    "warnings.filterwarnings('ignore')"
   ]
  },
  {
   "cell_type": "code",
   "execution_count": 2,
   "metadata": {},
   "outputs": [
    {
     "data": {
      "text/html": [
       "<div>\n",
       "<style scoped>\n",
       "    .dataframe tbody tr th:only-of-type {\n",
       "        vertical-align: middle;\n",
       "    }\n",
       "\n",
       "    .dataframe tbody tr th {\n",
       "        vertical-align: top;\n",
       "    }\n",
       "\n",
       "    .dataframe thead th {\n",
       "        text-align: right;\n",
       "    }\n",
       "</style>\n",
       "<table border=\"1\" class=\"dataframe\">\n",
       "  <thead>\n",
       "    <tr style=\"text-align: right;\">\n",
       "      <th></th>\n",
       "      <th>feature_0</th>\n",
       "      <th>feature_1</th>\n",
       "      <th>feature_2</th>\n",
       "      <th>feature_3</th>\n",
       "      <th>feature_4</th>\n",
       "      <th>feature_5</th>\n",
       "      <th>feature_6</th>\n",
       "      <th>feature_7</th>\n",
       "      <th>feature_8</th>\n",
       "      <th>feature_9</th>\n",
       "      <th>feature_10</th>\n",
       "      <th>feature_11</th>\n",
       "      <th>feature_12</th>\n",
       "      <th>feature_13</th>\n",
       "      <th>feature_14</th>\n",
       "      <th>feature_15</th>\n",
       "      <th>labels</th>\n",
       "    </tr>\n",
       "  </thead>\n",
       "  <tbody>\n",
       "    <tr>\n",
       "      <th>0</th>\n",
       "      <td>-0.276515</td>\n",
       "      <td>-0.424429</td>\n",
       "      <td>1.344997</td>\n",
       "      <td>-0.012283</td>\n",
       "      <td>0.076230</td>\n",
       "      <td>1.076648</td>\n",
       "      <td>0.182198</td>\n",
       "      <td>3</td>\n",
       "      <td>0</td>\n",
       "      <td>1</td>\n",
       "      <td>0</td>\n",
       "      <td>0</td>\n",
       "      <td>0</td>\n",
       "      <td>0</td>\n",
       "      <td>10</td>\n",
       "      <td>2</td>\n",
       "      <td>1</td>\n",
       "    </tr>\n",
       "    <tr>\n",
       "      <th>1</th>\n",
       "      <td>0.853573</td>\n",
       "      <td>0.150991</td>\n",
       "      <td>0.503892</td>\n",
       "      <td>-0.979179</td>\n",
       "      <td>-0.569351</td>\n",
       "      <td>-0.411453</td>\n",
       "      <td>-0.251940</td>\n",
       "      <td>4</td>\n",
       "      <td>1</td>\n",
       "      <td>2</td>\n",
       "      <td>0</td>\n",
       "      <td>1</td>\n",
       "      <td>0</td>\n",
       "      <td>0</td>\n",
       "      <td>0</td>\n",
       "      <td>3</td>\n",
       "      <td>0</td>\n",
       "    </tr>\n",
       "    <tr>\n",
       "      <th>2</th>\n",
       "      <td>0.947747</td>\n",
       "      <td>-0.173832</td>\n",
       "      <td>1.825628</td>\n",
       "      <td>-0.703478</td>\n",
       "      <td>0.076230</td>\n",
       "      <td>-0.411453</td>\n",
       "      <td>-0.251940</td>\n",
       "      <td>6</td>\n",
       "      <td>1</td>\n",
       "      <td>2</td>\n",
       "      <td>0</td>\n",
       "      <td>0</td>\n",
       "      <td>0</td>\n",
       "      <td>0</td>\n",
       "      <td>5</td>\n",
       "      <td>3</td>\n",
       "      <td>0</td>\n",
       "    </tr>\n",
       "    <tr>\n",
       "      <th>3</th>\n",
       "      <td>0.853573</td>\n",
       "      <td>-0.381404</td>\n",
       "      <td>0.984523</td>\n",
       "      <td>-0.039464</td>\n",
       "      <td>-0.569351</td>\n",
       "      <td>-0.411453</td>\n",
       "      <td>-0.251940</td>\n",
       "      <td>4</td>\n",
       "      <td>0</td>\n",
       "      <td>2</td>\n",
       "      <td>0</td>\n",
       "      <td>1</td>\n",
       "      <td>0</td>\n",
       "      <td>0</td>\n",
       "      <td>5</td>\n",
       "      <td>3</td>\n",
       "      <td>0</td>\n",
       "    </tr>\n",
       "    <tr>\n",
       "      <th>4</th>\n",
       "      <td>1.324443</td>\n",
       "      <td>1.590527</td>\n",
       "      <td>-1.178318</td>\n",
       "      <td>-0.097711</td>\n",
       "      <td>-0.246560</td>\n",
       "      <td>-0.411453</td>\n",
       "      <td>-0.251940</td>\n",
       "      <td>0</td>\n",
       "      <td>1</td>\n",
       "      <td>1</td>\n",
       "      <td>0</td>\n",
       "      <td>0</td>\n",
       "      <td>0</td>\n",
       "      <td>0</td>\n",
       "      <td>8</td>\n",
       "      <td>3</td>\n",
       "      <td>0</td>\n",
       "    </tr>\n",
       "  </tbody>\n",
       "</table>\n",
       "</div>"
      ],
      "text/plain": [
       "   feature_0  feature_1  feature_2  feature_3  feature_4  feature_5  \\\n",
       "0  -0.276515  -0.424429   1.344997  -0.012283   0.076230   1.076648   \n",
       "1   0.853573   0.150991   0.503892  -0.979179  -0.569351  -0.411453   \n",
       "2   0.947747  -0.173832   1.825628  -0.703478   0.076230  -0.411453   \n",
       "3   0.853573  -0.381404   0.984523  -0.039464  -0.569351  -0.411453   \n",
       "4   1.324443   1.590527  -1.178318  -0.097711  -0.246560  -0.411453   \n",
       "\n",
       "   feature_6  feature_7  feature_8  feature_9  feature_10  feature_11  \\\n",
       "0   0.182198          3          0          1           0           0   \n",
       "1  -0.251940          4          1          2           0           1   \n",
       "2  -0.251940          6          1          2           0           0   \n",
       "3  -0.251940          4          0          2           0           1   \n",
       "4  -0.251940          0          1          1           0           0   \n",
       "\n",
       "   feature_12  feature_13  feature_14  feature_15  labels  \n",
       "0           0           0          10           2       1  \n",
       "1           0           0           0           3       0  \n",
       "2           0           0           5           3       0  \n",
       "3           0           0           5           3       0  \n",
       "4           0           0           8           3       0  "
      ]
     },
     "execution_count": 2,
     "metadata": {},
     "output_type": "execute_result"
    }
   ],
   "source": [
    "#load data\n",
    "df_train=pd.read_csv('data-train.csv')\n",
    "df_train.head("
   ]
  },
  {
   "cell_type": "code",
   "execution_count": 3,
   "metadata": {},
   "outputs": [
    {
     "name": "stdout",
     "output_type": "stream",
     "text": [
      "Rows      : 33908\n",
      "Columns   : 17\n",
      "\n",
      "Missing values:\n",
      " 0\n"
     ]
    }
   ],
   "source": [
    "#check missing values\n",
    "print('Rows      :', df_train.shape[0])\t\n",
    "print('Columns   :', df_train.shape[1])\n",
    "print('\\nMissing values:\\n', df_train.isnull().sum().values.sum())"
   ]
  },
  {
   "cell_type": "code",
   "execution_count": 5,
   "metadata": {},
   "outputs": [
    {
     "data": {
      "image/png": "[encoded data removed]",
      "text/plain": [
       "<Figure size 432x288 with 1 Axes>"
      ]
     },
     "metadata": {},
     "output_type": "display_data"
    }
   ],
   "source": [
    "churn = df_train[df_train['labels'] == 1]\n",
    "not_churn = df_train[df_train['labels'] == 0]\n",
    "\n",
    "lab = df_train['labels'].value_counts().keys().tolist()\n",
    "val = df_train['labels'].value_counts().values.tolist()\n",
    "\n",
    "#imbalance dataset, may consider upsampling/undersampling/SMOTE\n",
    "fig1, ax1 = plt.subplots()\n",
    "ax1.pie(val,autopct='%1.1f%%',shadow=True, startangle=90)\n",
    "ax1.axis('equal')  # Equal aspect ratio ensures that pie is drawn as a circle.\n",
    "plt.title(\"Customer attrition in data\", bbox={'facecolor':'0.8', 'pad':5})\n",
    "plt.legend(labels=lab)\n",
    "plt.show()"
   ]
  },
  {
   "cell_type": "code",
   "execution_count": 6,
   "metadata": {},
   "outputs": [
    {
     "data": {
      "text/html": [
       "<div>\n",
       "<style scoped>\n",
       "    .dataframe tbody tr th:only-of-type {\n",
       "        vertical-align: middle;\n",
       "    }\n",
       "\n",
       "    .dataframe tbody tr th {\n",
       "        vertical-align: top;\n",
       "    }\n",
       "\n",
       "    .dataframe thead th {\n",
       "        text-align: right;\n",
       "    }\n",
       "</style>\n",
       "<table border=\"1\" class=\"dataframe\">\n",
       "  <thead>\n",
       "    <tr style=\"text-align: right;\">\n",
       "      <th></th>\n",
       "      <th>feature_0</th>\n",
       "      <th>feature_1</th>\n",
       "      <th>feature_2</th>\n",
       "      <th>feature_3</th>\n",
       "      <th>feature_4</th>\n",
       "      <th>feature_5</th>\n",
       "      <th>feature_6</th>\n",
       "      <th>feature_7</th>\n",
       "      <th>feature_8</th>\n",
       "      <th>feature_9</th>\n",
       "      <th>feature_10</th>\n",
       "      <th>feature_11</th>\n",
       "      <th>feature_12</th>\n",
       "      <th>feature_13</th>\n",
       "      <th>feature_14</th>\n",
       "      <th>feature_15</th>\n",
       "      <th>labels</th>\n",
       "    </tr>\n",
       "  </thead>\n",
       "  <tbody>\n",
       "    <tr>\n",
       "      <th>count</th>\n",
       "      <td>33908.000000</td>\n",
       "      <td>33908.000000</td>\n",
       "      <td>33908.000000</td>\n",
       "      <td>33908.000000</td>\n",
       "      <td>33908.000000</td>\n",
       "      <td>33908.000000</td>\n",
       "      <td>33908.000000</td>\n",
       "      <td>33908.000000</td>\n",
       "      <td>33908.000000</td>\n",
       "      <td>33908.000000</td>\n",
       "      <td>33908.000000</td>\n",
       "      <td>33908.000000</td>\n",
       "      <td>33908.000000</td>\n",
       "      <td>33908.000000</td>\n",
       "      <td>33908.000000</td>\n",
       "      <td>33908.000000</td>\n",
       "      <td>33908.000000</td>\n",
       "    </tr>\n",
       "    <tr>\n",
       "      <th>mean</th>\n",
       "      <td>-0.004158</td>\n",
       "      <td>0.002584</td>\n",
       "      <td>-0.000213</td>\n",
       "      <td>-0.000053</td>\n",
       "      <td>-0.000298</td>\n",
       "      <td>-0.004652</td>\n",
       "      <td>-0.007498</td>\n",
       "      <td>4.336381</td>\n",
       "      <td>1.171051</td>\n",
       "      <td>1.225345</td>\n",
       "      <td>0.018137</td>\n",
       "      <td>0.555503</td>\n",
       "      <td>0.159667</td>\n",
       "      <td>0.639407</td>\n",
       "      <td>5.520497</td>\n",
       "      <td>2.562375</td>\n",
       "      <td>0.116993</td>\n",
       "    </tr>\n",
       "    <tr>\n",
       "      <th>std</th>\n",
       "      <td>0.999776</td>\n",
       "      <td>1.014268</td>\n",
       "      <td>1.000872</td>\n",
       "      <td>1.002512</td>\n",
       "      <td>1.003724</td>\n",
       "      <td>0.993984</td>\n",
       "      <td>0.802696</td>\n",
       "      <td>3.273376</td>\n",
       "      <td>0.606730</td>\n",
       "      <td>0.749104</td>\n",
       "      <td>0.133450</td>\n",
       "      <td>0.496917</td>\n",
       "      <td>0.366303</td>\n",
       "      <td>0.897627</td>\n",
       "      <td>3.003241</td>\n",
       "      <td>0.987148</td>\n",
       "      <td>0.321417</td>\n",
       "    </tr>\n",
       "    <tr>\n",
       "      <th>min</th>\n",
       "      <td>-2.159994</td>\n",
       "      <td>-3.081149</td>\n",
       "      <td>-1.779108</td>\n",
       "      <td>-1.002478</td>\n",
       "      <td>-0.569351</td>\n",
       "      <td>-0.411453</td>\n",
       "      <td>-0.251940</td>\n",
       "      <td>0.000000</td>\n",
       "      <td>0.000000</td>\n",
       "      <td>0.000000</td>\n",
       "      <td>0.000000</td>\n",
       "      <td>0.000000</td>\n",
       "      <td>0.000000</td>\n",
       "      <td>0.000000</td>\n",
       "      <td>0.000000</td>\n",
       "      <td>0.000000</td>\n",
       "      <td>0.000000</td>\n",
       "    </tr>\n",
       "    <tr>\n",
       "      <th>25%</th>\n",
       "      <td>-0.747384</td>\n",
       "      <td>-0.422787</td>\n",
       "      <td>-0.938003</td>\n",
       "      <td>-0.602517</td>\n",
       "      <td>-0.569351</td>\n",
       "      <td>-0.411453</td>\n",
       "      <td>-0.251940</td>\n",
       "      <td>1.000000</td>\n",
       "      <td>1.000000</td>\n",
       "      <td>1.000000</td>\n",
       "      <td>0.000000</td>\n",
       "      <td>0.000000</td>\n",
       "      <td>0.000000</td>\n",
       "      <td>0.000000</td>\n",
       "      <td>3.000000</td>\n",
       "      <td>3.000000</td>\n",
       "      <td>0.000000</td>\n",
       "    </tr>\n",
       "    <tr>\n",
       "      <th>50%</th>\n",
       "      <td>-0.182341</td>\n",
       "      <td>-0.297324</td>\n",
       "      <td>0.023260</td>\n",
       "      <td>-0.303517</td>\n",
       "      <td>-0.246560</td>\n",
       "      <td>-0.411453</td>\n",
       "      <td>-0.251940</td>\n",
       "      <td>4.000000</td>\n",
       "      <td>1.000000</td>\n",
       "      <td>1.000000</td>\n",
       "      <td>0.000000</td>\n",
       "      <td>1.000000</td>\n",
       "      <td>0.000000</td>\n",
       "      <td>0.000000</td>\n",
       "      <td>6.000000</td>\n",
       "      <td>3.000000</td>\n",
       "      <td>0.000000</td>\n",
       "    </tr>\n",
       "    <tr>\n",
       "      <th>75%</th>\n",
       "      <td>0.665225</td>\n",
       "      <td>0.022901</td>\n",
       "      <td>0.624050</td>\n",
       "      <td>0.236237</td>\n",
       "      <td>0.076230</td>\n",
       "      <td>-0.411453</td>\n",
       "      <td>-0.251940</td>\n",
       "      <td>7.000000</td>\n",
       "      <td>2.000000</td>\n",
       "      <td>2.000000</td>\n",
       "      <td>0.000000</td>\n",
       "      <td>1.000000</td>\n",
       "      <td>0.000000</td>\n",
       "      <td>2.000000</td>\n",
       "      <td>8.000000</td>\n",
       "      <td>3.000000</td>\n",
       "      <td>0.000000</td>\n",
       "    </tr>\n",
       "    <tr>\n",
       "      <th>max</th>\n",
       "      <td>5.091402</td>\n",
       "      <td>33.094776</td>\n",
       "      <td>1.825628</td>\n",
       "      <td>18.094700</td>\n",
       "      <td>19.443647</td>\n",
       "      <td>8.127648</td>\n",
       "      <td>23.625644</td>\n",
       "      <td>11.000000</td>\n",
       "      <td>2.000000</td>\n",
       "      <td>3.000000</td>\n",
       "      <td>1.000000</td>\n",
       "      <td>1.000000</td>\n",
       "      <td>1.000000</td>\n",
       "      <td>2.000000</td>\n",
       "      <td>11.000000</td>\n",
       "      <td>3.000000</td>\n",
       "      <td>1.000000</td>\n",
       "    </tr>\n",
       "  </tbody>\n",
       "</table>\n",
       "</div>"
      ],
      "text/plain": [
       "          feature_0     feature_1     feature_2     feature_3     feature_4  \\\n",
       "count  33908.000000  33908.000000  33908.000000  33908.000000  33908.000000   \n",
       "mean      -0.004158      0.002584     -0.000213     -0.000053     -0.000298   \n",
       "std        0.999776      1.014268      1.000872      1.002512      1.003724   \n",
       "min       -2.159994     -3.081149     -1.779108     -1.002478     -0.569351   \n",
       "25%       -0.747384     -0.422787     -0.938003     -0.602517     -0.569351   \n",
       "50%       -0.182341     -0.297324      0.023260     -0.303517     -0.246560   \n",
       "75%        0.665225      0.022901      0.624050      0.236237      0.076230   \n",
       "max        5.091402     33.094776      1.825628     18.094700     19.443647   \n",
       "\n",
       "          feature_5     feature_6     feature_7     feature_8     feature_9  \\\n",
       "count  33908.000000  33908.000000  33908.000000  33908.000000  33908.000000   \n",
       "mean      -0.004652     -0.007498      4.336381      1.171051      1.225345   \n",
       "std        0.993984      0.802696      3.273376      0.606730      0.749104   \n",
       "min       -0.411453     -0.251940      0.000000      0.000000      0.000000   \n",
       "25%       -0.411453     -0.251940      1.000000      1.000000      1.000000   \n",
       "50%       -0.411453     -0.251940      4.000000      1.000000      1.000000   \n",
       "75%       -0.411453     -0.251940      7.000000      2.000000      2.000000   \n",
       "max        8.127648     23.625644     11.000000      2.000000      3.000000   \n",
       "\n",
       "         feature_10    feature_11    feature_12    feature_13    feature_14  \\\n",
       "count  33908.000000  33908.000000  33908.000000  33908.000000  33908.000000   \n",
       "mean       0.018137      0.555503      0.159667      0.639407      5.520497   \n",
       "std        0.133450      0.496917      0.366303      0.897627      3.003241   \n",
       "min        0.000000      0.000000      0.000000      0.000000      0.000000   \n",
       "25%        0.000000      0.000000      0.000000      0.000000      3.000000   \n",
       "50%        0.000000      1.000000      0.000000      0.000000      6.000000   \n",
       "75%        0.000000      1.000000      0.000000      2.000000      8.000000   \n",
       "max        1.000000      1.000000      1.000000      2.000000     11.000000   \n",
       "\n",
       "         feature_15        labels  \n",
       "count  33908.000000  33908.000000  \n",
       "mean       2.562375      0.116993  \n",
       "std        0.987148      0.321417  \n",
       "min        0.000000      0.000000  \n",
       "25%        3.000000      0.000000  \n",
       "50%        3.000000      0.000000  \n",
       "75%        3.000000      0.000000  \n",
       "max        3.000000      1.000000  "
      ]
     },
     "execution_count": 6,
     "metadata": {},
     "output_type": "execute_result"
    }
   ],
   "source": [
    "df_train.describe()"
   ]
  },
  {
   "cell_type": "code",
   "execution_count": 7,
   "metadata": {},
   "outputs": [
    {
     "name": "stdout",
     "output_type": "stream",
     "text": [
      "plot of feature feature_0 is {'whiskers': [<matplotlib.lines.Line2D object at 0x000001D1EDDC9970>, <matplotlib.lines.Line2D object at 0x000001D1EDDC9CD0>], 'caps': [<matplotlib.lines.Line2D object at 0x000001D1EDDD8070>, <matplotlib.lines.Line2D object at 0x000001D1EDDD83D0>], 'boxes': [<matplotlib.lines.Line2D object at 0x000001D1EDDC9610>], 'medians': [<matplotlib.lines.Line2D object at 0x000001D1EDDD8730>], 'fliers': [<matplotlib.lines.Line2D object at 0x000001D1EDDD8A30>], 'means': []}\n"
     ]
    },
    {
     "data": {
      "image/png": "[encoded data removed]",
      "text/plain": [
       "<Figure size 432x288 with 1 Axes>"
      ]
     },
     "metadata": {
      "needs_background": "light"
     },
     "output_type": "display_data"
    },
    {
     "name": "stdout",
     "output_type": "stream",
     "text": [
      "plot of feature feature_1 is {'whiskers': [<matplotlib.lines.Line2D object at 0x000001D1EDE32EB0>, <matplotlib.lines.Line2D object at 0x000001D1EDE3F250>], 'caps': [<matplotlib.lines.Line2D object at 0x000001D1EDE3F5B0>, <matplotlib.lines.Line2D object at 0x000001D1EDE3F910>], 'boxes': [<matplotlib.lines.Line2D object at 0x000001D1EDE32B50>], 'medians': [<matplotlib.lines.Line2D object at 0x000001D1EDE3FC70>], 'fliers': [<matplotlib.lines.Line2D object at 0x000001D1EDE3FF70>], 'means': []}\n"
     ]
    },
    {
     "data": {
      "image/png": "[encoded data removed]",
      "text/plain": [
       "<Figure size 432x288 with 1 Axes>"
      ]
     },
     "metadata": {
      "needs_background": "light"
     },
     "output_type": "display_data"
    },
    {
     "name": "stdout",
     "output_type": "stream",
     "text": [
      "plot of feature feature_2 is {'whiskers': [<matplotlib.lines.Line2D object at 0x000001D1EDE93C70>, <matplotlib.lines.Line2D object at 0x000001D1EDE93FD0>], 'caps': [<matplotlib.lines.Line2D object at 0x000001D1EDEA0370>, <matplotlib.lines.Line2D object at 0x000001D1EDEA06D0>], 'boxes': [<matplotlib.lines.Line2D object at 0x000001D1EDE93910>], 'medians': [<matplotlib.lines.Line2D object at 0x000001D1EDEA0A30>], 'fliers': [<matplotlib.lines.Line2D object at 0x000001D1EDEA0D30>], 'means': []}\n"
     ]
    },
    {
     "data": {
      "image/png": "[encoded data removed]",
      "text/plain": [
       "<Figure size 432x288 with 1 Axes>"
      ]
     },
     "metadata": {
      "needs_background": "light"
     },
     "output_type": "display_data"
    },
    {
     "name": "stdout",
     "output_type": "stream",
     "text": [
      "plot of feature feature_3 is {'whiskers': [<matplotlib.lines.Line2D object at 0x000001D1EDEF2AF0>, <matplotlib.lines.Line2D object at 0x000001D1EDEF2E50>], 'caps': [<matplotlib.lines.Line2D object at 0x000001D1EDEFD1F0>, <matplotlib.lines.Line2D object at 0x000001D1EDEFD550>], 'boxes': [<matplotlib.lines.Line2D object at 0x000001D1EDEF2790>], 'medians': [<matplotlib.lines.Line2D object at 0x000001D1EDEFD8B0>], 'fliers': [<matplotlib.lines.Line2D object at 0x000001D1EDEFDBB0>], 'means': []}\n"
     ]
    },
    {
     "data": {
      "image/png": "[encoded data removed]",
      "text/plain": [
       "<Figure size 432x288 with 1 Axes>"
      ]
     },
     "metadata": {
      "needs_background": "light"
     },
     "output_type": "display_data"
    },
    {
     "name": "stdout",
     "output_type": "stream",
     "text": [
      "plot of feature feature_4 is {'whiskers': [<matplotlib.lines.Line2D object at 0x000001D1EDF4DA30>, <matplotlib.lines.Line2D object at 0x000001D1EDF4DD90>], 'caps': [<matplotlib.lines.Line2D object at 0x000001D1EDF5B130>, <matplotlib.lines.Line2D object at 0x000001D1EDF5B490>], 'boxes': [<matplotlib.lines.Line2D object at 0x000001D1EDF4D6D0>], 'medians': [<matplotlib.lines.Line2D object at 0x000001D1EDF5B7F0>], 'fliers': [<matplotlib.lines.Line2D object at 0x000001D1EDF5BAF0>], 'means': []}\n"
     ]
    },
    {
     "data": {
      "image/png": "[encoded data removed]",
      "text/plain": [
       "<Figure size 432x288 with 1 Axes>"
      ]
     },
     "metadata": {
      "needs_background": "light"
     },
     "output_type": "display_data"
    },
    {
     "name": "stdout",
     "output_type": "stream",
     "text": [
      "plot of feature feature_5 is {'whiskers': [<matplotlib.lines.Line2D object at 0x000001D1EDFA8DF0>, <matplotlib.lines.Line2D object at 0x000001D1EDFB8190>], 'caps': [<matplotlib.lines.Line2D object at 0x000001D1EDFB84F0>, <matplotlib.lines.Line2D object at 0x000001D1EDFB8850>], 'boxes': [<matplotlib.lines.Line2D object at 0x000001D1EDFA8A90>], 'medians': [<matplotlib.lines.Line2D object at 0x000001D1EDFB8BB0>], 'fliers': [<matplotlib.lines.Line2D object at 0x000001D1EDFB8EB0>], 'means': []}\n"
     ]
    },
    {
     "data": {
      "image/png": "[encoded data removed]",
      "text/plain": [
       "<Figure size 432x288 with 1 Axes>"
      ]
     },
     "metadata": {
      "needs_background": "light"
     },
     "output_type": "display_data"
    },
    {
     "name": "stdout",
     "output_type": "stream",
     "text": [
      "plot of feature feature_6 is {'whiskers': [<matplotlib.lines.Line2D object at 0x000001D1EDFFFC70>, <matplotlib.lines.Line2D object at 0x000001D1EDFFFFD0>], 'caps': [<matplotlib.lines.Line2D object at 0x000001D1EE00D370>, <matplotlib.lines.Line2D object at 0x000001D1EE00D6D0>], 'boxes': [<matplotlib.lines.Line2D object at 0x000001D1EDFFF910>], 'medians': [<matplotlib.lines.Line2D object at 0x000001D1EE00DA30>], 'fliers': [<matplotlib.lines.Line2D object at 0x000001D1EE00DD30>], 'means': []}\n"
     ]
    },
    {
     "data": {
      "image/png": "[encoded data removed]",
      "text/plain": [
       "<Figure size 432x288 with 1 Axes>"
      ]
     },
     "metadata": {
      "needs_background": "light"
     },
     "output_type": "display_data"
    },
    {
     "name": "stdout",
     "output_type": "stream",
     "text": [
      "plot of feature feature_7 is {'whiskers': [<matplotlib.lines.Line2D object at 0x000001D1EE057AC0>, <matplotlib.lines.Line2D object at 0x000001D1EE057E20>], 'caps': [<matplotlib.lines.Line2D object at 0x000001D1EE0631C0>, <matplotlib.lines.Line2D object at 0x000001D1EE063520>], 'boxes': [<matplotlib.lines.Line2D object at 0x000001D1EE057760>], 'medians': [<matplotlib.lines.Line2D object at 0x000001D1EE063880>], 'fliers': [<matplotlib.lines.Line2D object at 0x000001D1EE063B80>], 'means': []}\n"
     ]
    },
    {
     "data": {
      "image/png": "[encoded data removed]",
      "text/plain": [
       "<Figure size 432x288 with 1 Axes>"
      ]
     },
     "metadata": {
      "needs_background": "light"
     },
     "output_type": "display_data"
    },
    {
     "name": "stdout",
     "output_type": "stream",
     "text": [
      "plot of feature feature_8 is {'whiskers': [<matplotlib.lines.Line2D object at 0x000001D1EDFF3430>, <matplotlib.lines.Line2D object at 0x000001D1EDFF3070>], 'caps': [<matplotlib.lines.Line2D object at 0x000001D1EE02BF10>, <matplotlib.lines.Line2D object at 0x000001D1EE031EE0>], 'boxes': [<matplotlib.lines.Line2D object at 0x000001D1EDFF3FD0>], 'medians': [<matplotlib.lines.Line2D object at 0x000001D1EE031610>], 'fliers': [<matplotlib.lines.Line2D object at 0x000001D1EE031910>], 'means': []}\n"
     ]
    },
    {
     "data": {
      "image/png": "[encoded data removed]",
      "text/plain": [
       "<Figure size 432x288 with 1 Axes>"
      ]
     },
     "metadata": {
      "needs_background": "light"
     },
     "output_type": "display_data"
    },
    {
     "name": "stdout",
     "output_type": "stream",
     "text": [
      "plot of feature feature_9 is {'whiskers': [<matplotlib.lines.Line2D object at 0x000001D1EDF6F070>, <matplotlib.lines.Line2D object at 0x000001D1EDF12E80>], 'caps': [<matplotlib.lines.Line2D object at 0x000001D1EDF12A90>, <matplotlib.lines.Line2D object at 0x000001D1EDF12820>], 'boxes': [<matplotlib.lines.Line2D object at 0x000001D1EDF6F190>], 'medians': [<matplotlib.lines.Line2D object at 0x000001D1EDF12400>], 'fliers': [<matplotlib.lines.Line2D object at 0x000001D1EDF0CA90>], 'means': []}\n"
     ]
    },
    {
     "data": {
      "image/png": "[encoded data removed]",
      "text/plain": [
       "<Figure size 432x288 with 1 Axes>"
      ]
     },
     "metadata": {
      "needs_background": "light"
     },
     "output_type": "display_data"
    },
    {
     "name": "stdout",
     "output_type": "stream",
     "text": [
      "plot of feature feature_10 is {'whiskers': [<matplotlib.lines.Line2D object at 0x000001D1EDE50B50>, <matplotlib.lines.Line2D object at 0x000001D1EDE56EB0>], 'caps': [<matplotlib.lines.Line2D object at 0x000001D1EDE56B50>, <matplotlib.lines.Line2D object at 0x000001D1EDE56E20>], 'boxes': [<matplotlib.lines.Line2D object at 0x000001D1EDE509D0>], 'medians': [<matplotlib.lines.Line2D object at 0x000001D1EDE56670>], 'fliers': [<matplotlib.lines.Line2D object at 0x000001D1EDE56400>], 'means': []}\n"
     ]
    },
    {
     "data": {
      "image/png": "[encoded data removed]",
      "text/plain": [
       "<Figure size 432x288 with 1 Axes>"
      ]
     },
     "metadata": {
      "needs_background": "light"
     },
     "output_type": "display_data"
    },
    {
     "name": "stdout",
     "output_type": "stream",
     "text": [
      "plot of feature feature_11 is {'whiskers': [<matplotlib.lines.Line2D object at 0x000001D1F01D1220>, <matplotlib.lines.Line2D object at 0x000001D1F01D17C0>], 'caps': [<matplotlib.lines.Line2D object at 0x000001D1EDD7B070>, <matplotlib.lines.Line2D object at 0x000001D1EDD7B4C0>], 'boxes': [<matplotlib.lines.Line2D object at 0x000001D1F01D1A00>], 'medians': [<matplotlib.lines.Line2D object at 0x000001D1EDD7B2B0>], 'fliers': [<matplotlib.lines.Line2D object at 0x000001D1EDD7BDC0>], 'means': []}\n"
     ]
    },
    {
     "data": {
      "image/png": "[encoded data removed]",
      "text/plain": [
       "<Figure size 432x288 with 1 Axes>"
      ]
     },
     "metadata": {
      "needs_background": "light"
     },
     "output_type": "display_data"
    },
    {
     "name": "stdout",
     "output_type": "stream",
     "text": [
      "plot of feature feature_12 is {'whiskers': [<matplotlib.lines.Line2D object at 0x000001D1EDDA7610>, <matplotlib.lines.Line2D object at 0x000001D1EDDA7940>], 'caps': [<matplotlib.lines.Line2D object at 0x000001D1EDDA71C0>, <matplotlib.lines.Line2D object at 0x000001D1EDDA7DC0>], 'boxes': [<matplotlib.lines.Line2D object at 0x000001D1EDE6E730>], 'medians': [<matplotlib.lines.Line2D object at 0x000001D1EE096310>], 'fliers': [<matplotlib.lines.Line2D object at 0x000001D1EE096610>], 'means': []}\n"
     ]
    },
    {
     "data": {
      "image/png": "[encoded data removed]",
      "text/plain": [
       "<Figure size 432x288 with 1 Axes>"
      ]
     },
     "metadata": {
      "needs_background": "light"
     },
     "output_type": "display_data"
    },
    {
     "name": "stdout",
     "output_type": "stream",
     "text": [
      "plot of feature feature_13 is {'whiskers': [<matplotlib.lines.Line2D object at 0x000001D1EE09D8E0>, <matplotlib.lines.Line2D object at 0x000001D1EE09DC40>], 'caps': [<matplotlib.lines.Line2D object at 0x000001D1EE09DFA0>, <matplotlib.lines.Line2D object at 0x000001D1EE0A8340>], 'boxes': [<matplotlib.lines.Line2D object at 0x000001D1EE09D580>], 'medians': [<matplotlib.lines.Line2D object at 0x000001D1EE0A86A0>], 'fliers': [<matplotlib.lines.Line2D object at 0x000001D1EE0A89A0>], 'means': []}\n"
     ]
    },
    {
     "data": {
      "image/png": "[encoded data removed]",
      "text/plain": [
       "<Figure size 432x288 with 1 Axes>"
      ]
     },
     "metadata": {
      "needs_background": "light"
     },
     "output_type": "display_data"
    },
    {
     "name": "stdout",
     "output_type": "stream",
     "text": [
      "plot of feature feature_14 is {'whiskers': [<matplotlib.lines.Line2D object at 0x000001D1EDE2AC10>, <matplotlib.lines.Line2D object at 0x000001D1EDE2AF70>], 'caps': [<matplotlib.lines.Line2D object at 0x000001D1EDE2E310>, <matplotlib.lines.Line2D object at 0x000001D1EDE2E670>], 'boxes': [<matplotlib.lines.Line2D object at 0x000001D1EDE2A8B0>], 'medians': [<matplotlib.lines.Line2D object at 0x000001D1EDE2E9D0>], 'fliers': [<matplotlib.lines.Line2D object at 0x000001D1EDE2ECD0>], 'means': []}\n"
     ]
    },
    {
     "data": {
      "image/png": "[encoded data removed]",
      "text/plain": [
       "<Figure size 432x288 with 1 Axes>"
      ]
     },
     "metadata": {
      "needs_background": "light"
     },
     "output_type": "display_data"
    },
    {
     "name": "stdout",
     "output_type": "stream",
     "text": [
      "plot of feature feature_15 is {'whiskers': [<matplotlib.lines.Line2D object at 0x000001D1EDEFDF40>, <matplotlib.lines.Line2D object at 0x000001D1EDEEC2E0>], 'caps': [<matplotlib.lines.Line2D object at 0x000001D1EDEEC640>, <matplotlib.lines.Line2D object at 0x000001D1EDEEC9A0>], 'boxes': [<matplotlib.lines.Line2D object at 0x000001D1EDEFDBE0>], 'medians': [<matplotlib.lines.Line2D object at 0x000001D1EDEECD00>], 'fliers': [<matplotlib.lines.Line2D object at 0x000001D1EDEEE040>], 'means': []}\n"
     ]
    },
    {
     "data": {
      "image/png": "[encoded data removed]",
      "text/plain": [
       "<Figure size 432x288 with 1 Axes>"
      ]
     },
     "metadata": {
      "needs_background": "light"
     },
     "output_type": "display_data"
    }
   ],
   "source": [
    "for col in df_train.columns:\n",
    "    if col.startswith('feature'):\n",
    "        plot = plt.boxplot(df_train[col])\n",
    "        print(f'plot of feature {col} is {plot}')\n",
    "        plt.show()"
   ]
  },
  {
   "cell_type": "code",
   "execution_count": 41,
   "metadata": {},
   "outputs": [
    {
     "name": "stdout",
     "output_type": "stream",
     "text": [
      "(array([    5,    35,    40, ..., 33892, 33902, 33903], dtype=int64), array([6, 4, 3, ..., 6, 3, 5], dtype=int64))\n"
     ]
    }
   ],
   "source": [
    "from scipy import stats\n",
    "z=np.abs(stats.zscore(df_train))\n",
    "threshold=3.5\n",
    "print(np.where(abs(z)>threshold))"
   ]
  },
  {
   "cell_type": "code",
   "execution_count": 42,
   "metadata": {},
   "outputs": [
    {
     "data": {
      "text/plain": [
       "(31211, 17)"
      ]
     },
     "execution_count": 42,
     "metadata": {},
     "output_type": "execute_result"
    }
   ],
   "source": [
    "#drop outliers based on z score\n",
    "df1=df_train[(abs(z)<threshold).all(axis=1)]\n",
    "df1.shape"
   ]
  },
  {
   "cell_type": "code",
   "execution_count": 43,
   "metadata": {},
   "outputs": [
    {
     "data": {
      "image/png": "[encoded data removed]",
      "text/plain": [
       "<Figure size 1008x720 with 16 Axes>"
      ]
     },
     "metadata": {
      "needs_background": "light"
     },
     "output_type": "display_data"
    }
   ],
   "source": [
    "#check distribution after removing outliers\n",
    "plt.figure(figsize=(14,10))\n",
    "clr=['red','blue','green','pink','lime','orange','yellow','violet','indigo','teal','red','blue','green','pink','lime','orange']\n",
    "for i,j in zip(range(1,17),df1.columns[:-1]):\n",
    "    plt.subplot(4,4,i)\n",
    "    df1[j].hist(color = clr[i-1], label=j)\n",
    "    plt.legend()"
   ]
  },
  {
   "cell_type": "code",
   "execution_count": 44,
   "metadata": {},
   "outputs": [
    {
     "data": {
      "image/png": "[encoded data removed]",
      "text/plain": [
       "<Figure size 1440x1152 with 2 Axes>"
      ]
     },
     "metadata": {
      "needs_background": "light"
     },
     "output_type": "display_data"
    }
   ],
   "source": [
    "plt.figure(figsize=(20,16))\n",
    "corr = df1.corr()\n",
    "ax = sns.heatmap(corr, \n",
    "    annot=True,vmin=-1, vmax=1, center=0,\n",
    "    cmap=sns.diverging_palette(20, 220, n=200),\n",
    "    square=True)\n",
    "ax.set_xticklabels(\n",
    "    ax.get_xticklabels(),\n",
    "    rotation=45,\n",
    "    horizontalalignment='right');"
   ]
  },
  {
   "cell_type": "code",
   "execution_count": 45,
   "metadata": {},
   "outputs": [
    {
     "data": {
      "text/html": [
       "<div>\n",
       "<style scoped>\n",
       "    .dataframe tbody tr th:only-of-type {\n",
       "        vertical-align: middle;\n",
       "    }\n",
       "\n",
       "    .dataframe tbody tr th {\n",
       "        vertical-align: top;\n",
       "    }\n",
       "\n",
       "    .dataframe thead th {\n",
       "        text-align: right;\n",
       "    }\n",
       "</style>\n",
       "<table border=\"1\" class=\"dataframe\">\n",
       "  <thead>\n",
       "    <tr style=\"text-align: right;\">\n",
       "      <th></th>\n",
       "      <th>feature_0</th>\n",
       "      <th>feature_1</th>\n",
       "      <th>feature_2</th>\n",
       "      <th>feature_3</th>\n",
       "      <th>feature_4</th>\n",
       "      <th>feature_5</th>\n",
       "      <th>feature_6</th>\n",
       "      <th>feature_7</th>\n",
       "      <th>feature_8</th>\n",
       "      <th>feature_9</th>\n",
       "      <th>feature_10</th>\n",
       "      <th>feature_11</th>\n",
       "      <th>feature_12</th>\n",
       "      <th>feature_13</th>\n",
       "      <th>feature_14</th>\n",
       "      <th>feature_15</th>\n",
       "      <th>labels</th>\n",
       "    </tr>\n",
       "  </thead>\n",
       "  <tbody>\n",
       "    <tr>\n",
       "      <th>0</th>\n",
       "      <td>-0.276515</td>\n",
       "      <td>-0.424429</td>\n",
       "      <td>1.344997</td>\n",
       "      <td>-0.012283</td>\n",
       "      <td>0.076230</td>\n",
       "      <td>1.076648</td>\n",
       "      <td>0.182198</td>\n",
       "      <td>3</td>\n",
       "      <td>0</td>\n",
       "      <td>1</td>\n",
       "      <td>0</td>\n",
       "      <td>0</td>\n",
       "      <td>0</td>\n",
       "      <td>0</td>\n",
       "      <td>10</td>\n",
       "      <td>2</td>\n",
       "      <td>1</td>\n",
       "    </tr>\n",
       "    <tr>\n",
       "      <th>1</th>\n",
       "      <td>0.853573</td>\n",
       "      <td>0.150991</td>\n",
       "      <td>0.503892</td>\n",
       "      <td>-0.979179</td>\n",
       "      <td>-0.569351</td>\n",
       "      <td>-0.411453</td>\n",
       "      <td>-0.251940</td>\n",
       "      <td>4</td>\n",
       "      <td>1</td>\n",
       "      <td>2</td>\n",
       "      <td>0</td>\n",
       "      <td>1</td>\n",
       "      <td>0</td>\n",
       "      <td>0</td>\n",
       "      <td>0</td>\n",
       "      <td>3</td>\n",
       "      <td>0</td>\n",
       "    </tr>\n",
       "    <tr>\n",
       "      <th>2</th>\n",
       "      <td>0.947747</td>\n",
       "      <td>-0.173832</td>\n",
       "      <td>1.825628</td>\n",
       "      <td>-0.703478</td>\n",
       "      <td>0.076230</td>\n",
       "      <td>-0.411453</td>\n",
       "      <td>-0.251940</td>\n",
       "      <td>6</td>\n",
       "      <td>1</td>\n",
       "      <td>2</td>\n",
       "      <td>0</td>\n",
       "      <td>0</td>\n",
       "      <td>0</td>\n",
       "      <td>0</td>\n",
       "      <td>5</td>\n",
       "      <td>3</td>\n",
       "      <td>0</td>\n",
       "    </tr>\n",
       "    <tr>\n",
       "      <th>3</th>\n",
       "      <td>0.853573</td>\n",
       "      <td>-0.381404</td>\n",
       "      <td>0.984523</td>\n",
       "      <td>-0.039464</td>\n",
       "      <td>-0.569351</td>\n",
       "      <td>-0.411453</td>\n",
       "      <td>-0.251940</td>\n",
       "      <td>4</td>\n",
       "      <td>0</td>\n",
       "      <td>2</td>\n",
       "      <td>0</td>\n",
       "      <td>1</td>\n",
       "      <td>0</td>\n",
       "      <td>0</td>\n",
       "      <td>5</td>\n",
       "      <td>3</td>\n",
       "      <td>0</td>\n",
       "    </tr>\n",
       "    <tr>\n",
       "      <th>4</th>\n",
       "      <td>1.324443</td>\n",
       "      <td>1.590527</td>\n",
       "      <td>-1.178318</td>\n",
       "      <td>-0.097711</td>\n",
       "      <td>-0.246560</td>\n",
       "      <td>-0.411453</td>\n",
       "      <td>-0.251940</td>\n",
       "      <td>0</td>\n",
       "      <td>1</td>\n",
       "      <td>1</td>\n",
       "      <td>0</td>\n",
       "      <td>0</td>\n",
       "      <td>0</td>\n",
       "      <td>0</td>\n",
       "      <td>8</td>\n",
       "      <td>3</td>\n",
       "      <td>0</td>\n",
       "    </tr>\n",
       "  </tbody>\n",
       "</table>\n",
       "</div>"
      ],
      "text/plain": [
       "   feature_0  feature_1  feature_2  feature_3  feature_4  feature_5  \\\n",
       "0  -0.276515  -0.424429   1.344997  -0.012283   0.076230   1.076648   \n",
       "1   0.853573   0.150991   0.503892  -0.979179  -0.569351  -0.411453   \n",
       "2   0.947747  -0.173832   1.825628  -0.703478   0.076230  -0.411453   \n",
       "3   0.853573  -0.381404   0.984523  -0.039464  -0.569351  -0.411453   \n",
       "4   1.324443   1.590527  -1.178318  -0.097711  -0.246560  -0.411453   \n",
       "\n",
       "   feature_6  feature_7  feature_8  feature_9  feature_10  feature_11  \\\n",
       "0   0.182198          3          0          1           0           0   \n",
       "1  -0.251940          4          1          2           0           1   \n",
       "2  -0.251940          6          1          2           0           0   \n",
       "3  -0.251940          4          0          2           0           1   \n",
       "4  -0.251940          0          1          1           0           0   \n",
       "\n",
       "   feature_12  feature_13  feature_14  feature_15  labels  \n",
       "0           0           0          10           2       1  \n",
       "1           0           0           0           3       0  \n",
       "2           0           0           5           3       0  \n",
       "3           0           0           5           3       0  \n",
       "4           0           0           8           3       0  "
      ]
     },
     "execution_count": 45,
     "metadata": {},
     "output_type": "execute_result"
    }
   ],
   "source": [
    "df1.head()"
   ]
  },
  {
   "cell_type": "code",
   "execution_count": 46,
   "metadata": {},
   "outputs": [],
   "source": [
    "from sklearn.model_selection import train_test_split\n",
    "x = df1.drop(['labels'], axis=1)\n",
    "y = df1['labels']\n",
    "X_train, X_test, y_train, y_test = train_test_split(x, y, test_size = 0.3, random_state = 42)"
   ]
  },
  {
   "cell_type": "code",
   "execution_count": 47,
   "metadata": {},
   "outputs": [],
   "source": [
    "from sklearn.metrics import accuracy_score, confusion_matrix, classification_report, roc_curve, roc_auc_score\n",
    "\n",
    "from sklearn.pipeline import Pipeline\n",
    "from sklearn.model_selection import GridSearchCV\n",
    "from sklearn.metrics import roc_curve, auc, classification_report, confusion_matrix, accuracy_score, roc_auc_score\n",
    "from sklearn.metrics import classification_report,f1_score"
   ]
  },
  {
   "cell_type": "code",
   "execution_count": 61,
   "metadata": {},
   "outputs": [
    {
     "name": "stdout",
     "output_type": "stream",
     "text": [
      "Best Penalty: l2\n",
      "Best C: 5\n",
      "Accuracy of Logistic Regression:  0.899508756941478\n",
      "Confusion matrix \n",
      " [[8200  171]\n",
      " [ 770  223]]\n",
      "              precision    recall  f1-score   support\n",
      "\n",
      "           0       0.91      0.98      0.95      8371\n",
      "           1       0.57      0.22      0.32       993\n",
      "\n",
      "    accuracy                           0.90      9364\n",
      "   macro avg       0.74      0.60      0.63      9364\n",
      "weighted avg       0.88      0.90      0.88      9364\n",
      "\n"
     ]
    }
   ],
   "source": [
    "#the recall of label=1 shows the model is more biased towards majority class.\n",
    "# we are interested in high F1 score ( false negative is more important)\n",
    "from sklearn import linear_model\n",
    "logistic = linear_model.LogisticRegression()\n",
    "grid={\"C\":[0.001,.009,0.01,.09,1,5,10,25], \"penalty\":[\"l1\",\"l2\"]}\n",
    "clf_lr = GridSearchCV(logistic, grid, cv=5, verbose=0)\n",
    "best_model = clf_lr.fit(X_train, y_train)\n",
    "\n",
    "# View best hyperparameters\n",
    "print('Best Penalty:', best_model.best_estimator_.get_params()['penalty'])\n",
    "print('Best C:', best_model.best_estimator_.get_params()['C'])\n",
    "\n",
    "y_pred_lr=best_model.predict(X_test)\n",
    "#Check Prediction Score\n",
    "print(\"Accuracy of Logistic Regression: \",accuracy_score(y_test, y_pred_lr))\n",
    "\n",
    "#Print Classification Report\n",
    "print(\"Confusion matrix \\n\",confusion_matrix(y_test,y_pred_lr))\n",
    "print(classification_report(y_test,y_pred_lr))"
   ]
  },
  {
   "cell_type": "code",
   "execution_count": 50,
   "metadata": {},
   "outputs": [
    {
     "name": "stdout",
     "output_type": "stream",
     "text": [
      "Accuracy of Random Forest:  0.910615121742845\n",
      "Confusion matrix \n",
      " [[8191  180]\n",
      " [ 657  336]]\n",
      "              precision    recall  f1-score   support\n",
      "\n",
      "           0       0.93      0.98      0.95      8371\n",
      "           1       0.65      0.34      0.45       993\n",
      "\n",
      "    accuracy                           0.91      9364\n",
      "   macro avg       0.79      0.66      0.70      9364\n",
      "weighted avg       0.90      0.91      0.90      9364\n",
      "\n"
     ]
    }
   ],
   "source": [
    "from sklearn.ensemble import RandomForestClassifier\n",
    "model= RandomForestClassifier(random_state=1234)\n",
    "\n",
    "#Hyper Parameters Set\n",
    "param_grid = {'criterion':['gini','entropy'],\n",
    "          'n_estimators':[10,15,20,25,30],\n",
    "          'min_samples_leaf':[1,2,3],\n",
    "          'min_samples_split':[3,4,5,6,7], \n",
    "          'random_state':[123],\n",
    "          'n_jobs':[-1]}\n",
    "\n",
    "# Create grid search object\n",
    "clf = GridSearchCV(model, param_grid=param_grid, n_jobs=-1, cv=10)\n",
    "best_clf_rf = clf.fit(X_train, y_train)\n",
    "predictions = best_clf_rf.predict(X_test)\n",
    "\n",
    "#Check Prediction Score\n",
    "print(\"Accuracy of Random Forest: \",accuracy_score(y_test, predictions))\n",
    "\n",
    "#Print Classification Report\n",
    "print(\"Confusion matrix \\n\",confusion_matrix(y_test,predictions))\n",
    "print(classification_report(y_test,predictions))"
   ]
  },
  {
   "cell_type": "code",
   "execution_count": 17,
   "metadata": {},
   "outputs": [
    {
     "name": "stdout",
     "output_type": "stream",
     "text": [
      "Fitting 5 folds for each of 9 candidates, totalling 45 fits\n",
      "[CV] C=0.1, gamma=1, kernel=rbf ......................................\n"
     ]
    },
    {
     "name": "stderr",
     "output_type": "stream",
     "text": [
      "[Parallel(n_jobs=1)]: Using backend SequentialBackend with 1 concurrent workers.\n"
     ]
    },
    {
     "name": "stdout",
     "output_type": "stream",
     "text": [
      "[CV] .......... C=0.1, gamma=1, kernel=rbf, score=0.899, total=  21.9s\n",
      "[CV] C=0.1, gamma=1, kernel=rbf ......................................\n"
     ]
    },
    {
     "name": "stderr",
     "output_type": "stream",
     "text": [
      "[Parallel(n_jobs=1)]: Done   1 out of   1 | elapsed:   21.8s remaining:    0.0s\n"
     ]
    },
    {
     "name": "stdout",
     "output_type": "stream",
     "text": [
      "[CV] .......... C=0.1, gamma=1, kernel=rbf, score=0.899, total=  23.3s\n",
      "[CV] C=0.1, gamma=1, kernel=rbf ......................................\n"
     ]
    },
    {
     "name": "stderr",
     "output_type": "stream",
     "text": [
      "[Parallel(n_jobs=1)]: Done   2 out of   2 | elapsed:   45.1s remaining:    0.0s\n"
     ]
    },
    {
     "name": "stdout",
     "output_type": "stream",
     "text": [
      "[CV] .......... C=0.1, gamma=1, kernel=rbf, score=0.899, total=  25.4s\n",
      "[CV] C=0.1, gamma=1, kernel=rbf ......................................\n",
      "[CV] .......... C=0.1, gamma=1, kernel=rbf, score=0.899, total=  23.0s\n",
      "[CV] C=0.1, gamma=1, kernel=rbf ......................................\n",
      "[CV] .......... C=0.1, gamma=1, kernel=rbf, score=0.899, total=  21.8s\n",
      "[CV] C=0.1, gamma=0.1, kernel=rbf ....................................\n",
      "[CV] ........ C=0.1, gamma=0.1, kernel=rbf, score=0.899, total=   4.6s\n",
      "[CV] C=0.1, gamma=0.1, kernel=rbf ....................................\n",
      "[CV] ........ C=0.1, gamma=0.1, kernel=rbf, score=0.899, total=   4.4s\n",
      "[CV] C=0.1, gamma=0.1, kernel=rbf ....................................\n",
      "[CV] ........ C=0.1, gamma=0.1, kernel=rbf, score=0.899, total=   4.3s\n",
      "[CV] C=0.1, gamma=0.1, kernel=rbf ....................................\n",
      "[CV] ........ C=0.1, gamma=0.1, kernel=rbf, score=0.899, total=   4.5s\n",
      "[CV] C=0.1, gamma=0.1, kernel=rbf ....................................\n",
      "[CV] ........ C=0.1, gamma=0.1, kernel=rbf, score=0.899, total=   4.7s\n",
      "[CV] C=0.1, gamma=0.01, kernel=rbf ...................................\n",
      "[CV] ....... C=0.1, gamma=0.01, kernel=rbf, score=0.899, total=   4.4s\n",
      "[CV] C=0.1, gamma=0.01, kernel=rbf ...................................\n",
      "[CV] ....... C=0.1, gamma=0.01, kernel=rbf, score=0.899, total=   4.4s\n",
      "[CV] C=0.1, gamma=0.01, kernel=rbf ...................................\n",
      "[CV] ....... C=0.1, gamma=0.01, kernel=rbf, score=0.899, total=   4.3s\n",
      "[CV] C=0.1, gamma=0.01, kernel=rbf ...................................\n",
      "[CV] ....... C=0.1, gamma=0.01, kernel=rbf, score=0.899, total=   4.5s\n",
      "[CV] C=0.1, gamma=0.01, kernel=rbf ...................................\n",
      "[CV] ....... C=0.1, gamma=0.01, kernel=rbf, score=0.899, total=   4.5s\n",
      "[CV] C=1, gamma=1, kernel=rbf ........................................\n",
      "[CV] ............ C=1, gamma=1, kernel=rbf, score=0.899, total=  28.6s\n",
      "[CV] C=1, gamma=1, kernel=rbf ........................................\n",
      "[CV] ............ C=1, gamma=1, kernel=rbf, score=0.899, total=  28.8s\n",
      "[CV] C=1, gamma=1, kernel=rbf ........................................\n",
      "[CV] ............ C=1, gamma=1, kernel=rbf, score=0.901, total=  31.5s\n",
      "[CV] C=1, gamma=1, kernel=rbf ........................................\n",
      "[CV] ............ C=1, gamma=1, kernel=rbf, score=0.901, total=  28.3s\n",
      "[CV] C=1, gamma=1, kernel=rbf ........................................\n",
      "[CV] ............ C=1, gamma=1, kernel=rbf, score=0.899, total=  29.3s\n",
      "[CV] C=1, gamma=0.1, kernel=rbf ......................................\n",
      "[CV] .......... C=1, gamma=0.1, kernel=rbf, score=0.908, total=   4.9s\n",
      "[CV] C=1, gamma=0.1, kernel=rbf ......................................\n",
      "[CV] .......... C=1, gamma=0.1, kernel=rbf, score=0.908, total=   5.9s\n",
      "[CV] C=1, gamma=0.1, kernel=rbf ......................................\n",
      "[CV] .......... C=1, gamma=0.1, kernel=rbf, score=0.911, total=   5.2s\n",
      "[CV] C=1, gamma=0.1, kernel=rbf ......................................\n",
      "[CV] .......... C=1, gamma=0.1, kernel=rbf, score=0.913, total=   4.7s\n",
      "[CV] C=1, gamma=0.1, kernel=rbf ......................................\n",
      "[CV] .......... C=1, gamma=0.1, kernel=rbf, score=0.909, total=   5.2s\n",
      "[CV] C=1, gamma=0.01, kernel=rbf .....................................\n",
      "[CV] ......... C=1, gamma=0.01, kernel=rbf, score=0.899, total=   4.7s\n",
      "[CV] C=1, gamma=0.01, kernel=rbf .....................................\n",
      "[CV] ......... C=1, gamma=0.01, kernel=rbf, score=0.899, total=   4.6s\n",
      "[CV] C=1, gamma=0.01, kernel=rbf .....................................\n",
      "[CV] ......... C=1, gamma=0.01, kernel=rbf, score=0.899, total=   5.0s\n",
      "[CV] C=1, gamma=0.01, kernel=rbf .....................................\n",
      "[CV] ......... C=1, gamma=0.01, kernel=rbf, score=0.899, total=   4.6s\n",
      "[CV] C=1, gamma=0.01, kernel=rbf .....................................\n",
      "[CV] ......... C=1, gamma=0.01, kernel=rbf, score=0.899, total=   4.7s\n",
      "[CV] C=10, gamma=1, kernel=rbf .......................................\n",
      "[CV] ........... C=10, gamma=1, kernel=rbf, score=0.890, total=  32.6s\n",
      "[CV] C=10, gamma=1, kernel=rbf .......................................\n",
      "[CV] ........... C=10, gamma=1, kernel=rbf, score=0.893, total=  32.9s\n",
      "[CV] C=10, gamma=1, kernel=rbf .......................................\n",
      "[CV] ........... C=10, gamma=1, kernel=rbf, score=0.893, total=  34.6s\n",
      "[CV] C=10, gamma=1, kernel=rbf .......................................\n",
      "[CV] ........... C=10, gamma=1, kernel=rbf, score=0.897, total=  36.9s\n",
      "[CV] C=10, gamma=1, kernel=rbf .......................................\n",
      "[CV] ........... C=10, gamma=1, kernel=rbf, score=0.893, total=  33.8s\n",
      "[CV] C=10, gamma=0.1, kernel=rbf .....................................\n",
      "[CV] ......... C=10, gamma=0.1, kernel=rbf, score=0.902, total=   7.1s\n",
      "[CV] C=10, gamma=0.1, kernel=rbf .....................................\n",
      "[CV] ......... C=10, gamma=0.1, kernel=rbf, score=0.906, total=   7.1s\n",
      "[CV] C=10, gamma=0.1, kernel=rbf .....................................\n",
      "[CV] ......... C=10, gamma=0.1, kernel=rbf, score=0.906, total=   7.2s\n",
      "[CV] C=10, gamma=0.1, kernel=rbf .....................................\n",
      "[CV] ......... C=10, gamma=0.1, kernel=rbf, score=0.907, total=   7.6s\n",
      "[CV] C=10, gamma=0.1, kernel=rbf .....................................\n",
      "[CV] ......... C=10, gamma=0.1, kernel=rbf, score=0.907, total=   8.0s\n",
      "[CV] C=10, gamma=0.01, kernel=rbf ....................................\n",
      "[CV] ........ C=10, gamma=0.01, kernel=rbf, score=0.907, total=   6.9s\n",
      "[CV] C=10, gamma=0.01, kernel=rbf ....................................\n",
      "[CV] ........ C=10, gamma=0.01, kernel=rbf, score=0.907, total=   5.5s\n",
      "[CV] C=10, gamma=0.01, kernel=rbf ....................................\n",
      "[CV] ........ C=10, gamma=0.01, kernel=rbf, score=0.909, total=   5.8s\n",
      "[CV] C=10, gamma=0.01, kernel=rbf ....................................\n",
      "[CV] ........ C=10, gamma=0.01, kernel=rbf, score=0.910, total=   5.1s\n",
      "[CV] C=10, gamma=0.01, kernel=rbf ....................................\n",
      "[CV] ........ C=10, gamma=0.01, kernel=rbf, score=0.908, total=   5.7s\n"
     ]
    },
    {
     "name": "stderr",
     "output_type": "stream",
     "text": [
      "[Parallel(n_jobs=1)]: Done  45 out of  45 | elapsed:  9.9min finished\n"
     ]
    },
    {
     "name": "stdout",
     "output_type": "stream",
     "text": [
      "{'C': 1, 'gamma': 0.1, 'kernel': 'rbf'}\n",
      "SVC(C=1, gamma=0.1)\n",
      "Accuracy of SVM:  0.9137141888455671\n",
      "              precision    recall  f1-score   support\n",
      "\n",
      "           0       0.92      0.99      0.95      5314\n",
      "           1       0.70      0.22      0.34       585\n",
      "\n",
      "    accuracy                           0.91      5899\n",
      "   macro avg       0.81      0.61      0.65      5899\n",
      "weighted avg       0.90      0.91      0.89      5899\n",
      "\n"
     ]
    }
   ],
   "source": [
    "#如果Feature的数量很大，跟样本数量差不多，这时候选用LR或者是Linear Kernel的SVM2. \n",
    "#如果Feature的数量比较小，样本数量一般，不算大也不算小，选用SVM+Gaussian Kernel3. \n",
    "#如果Feature的数量比较小，而样本数量很多，需要手工添加一些feature变成第一种情况\n",
    "\n",
    "from sklearn.svm import SVC\n",
    "# defining parameter range \n",
    "param_grid = {'C': [0.1, 1, 10],  \n",
    "              'gamma': [1, 0.1, 0.01], \n",
    "              'kernel': ['rbf']}  \n",
    "  \n",
    "gridsvm = GridSearchCV(SVC(), param_grid, refit = True, verbose = 3,n_jobs=1) \n",
    "gridsvm.fit(X_train, y_train)  \n",
    "\n",
    "# print best parameter after tuning \n",
    "print(gridsvm.best_params_)   \n",
    "# print how our model looks after hyper-parameter tuning \n",
    "print(gridsvm.best_estimator_)\n",
    "\n",
    "# print prediction results \n",
    "predictions_svm = gridsvm.predict(X_test) \n",
    "print(\"Accuracy of SVM: \",accuracy_score(y_test, predictions_svm))\n",
    "\n",
    "print(classification_report(y_test, predictions_svm))"
   ]
  },
  {
   "cell_type": "code",
   "execution_count": 49,
   "metadata": {},
   "outputs": [
    {
     "name": "stdout",
     "output_type": "stream",
     "text": [
      "Iteration 1, loss = 0.31773859\n",
      "Iteration 2, loss = 0.25564336\n",
      "Iteration 3, loss = 0.24893186\n",
      "Iteration 4, loss = 0.24582187\n",
      "Iteration 5, loss = 0.24255395\n",
      "Iteration 6, loss = 0.23964737\n",
      "Iteration 7, loss = 0.23683988\n",
      "Iteration 8, loss = 0.23337565\n",
      "Iteration 9, loss = 0.23067565\n",
      "Iteration 10, loss = 0.22871521\n",
      "Iteration 11, loss = 0.22741091\n",
      "Iteration 12, loss = 0.22530136\n",
      "Iteration 13, loss = 0.22652908\n",
      "Iteration 14, loss = 0.22520118\n",
      "Iteration 15, loss = 0.22374078\n",
      "Iteration 16, loss = 0.22327488\n",
      "Iteration 17, loss = 0.22144422\n",
      "Iteration 18, loss = 0.22073736\n",
      "Iteration 19, loss = 0.22192694\n",
      "Iteration 20, loss = 0.22112616\n",
      "Iteration 21, loss = 0.22013472\n",
      "Iteration 22, loss = 0.22086454\n",
      "Iteration 23, loss = 0.21884949\n",
      "Iteration 24, loss = 0.21961300\n",
      "Iteration 25, loss = 0.22005846\n",
      "Iteration 26, loss = 0.21885642\n",
      "Iteration 27, loss = 0.21947215\n",
      "Iteration 28, loss = 0.21972464\n",
      "Iteration 29, loss = 0.21985602\n",
      "Iteration 30, loss = 0.21821780\n",
      "Iteration 31, loss = 0.21919250\n",
      "Iteration 32, loss = 0.21900176\n",
      "Iteration 33, loss = 0.21882118\n",
      "Iteration 34, loss = 0.21773402\n",
      "Iteration 35, loss = 0.21757269\n",
      "Iteration 36, loss = 0.21843402\n",
      "Iteration 37, loss = 0.21829595\n",
      "Iteration 38, loss = 0.21733148\n",
      "Iteration 39, loss = 0.21767949\n",
      "Iteration 40, loss = 0.21744505\n",
      "Iteration 41, loss = 0.21740147\n",
      "Iteration 42, loss = 0.21662979\n",
      "Iteration 43, loss = 0.21758041\n",
      "Iteration 44, loss = 0.21698909\n",
      "Iteration 45, loss = 0.21586055\n",
      "Iteration 46, loss = 0.21689373\n",
      "Iteration 47, loss = 0.21617309\n",
      "Iteration 48, loss = 0.21618856\n",
      "Iteration 49, loss = 0.21670340\n",
      "Iteration 50, loss = 0.21726879\n",
      "Iteration 51, loss = 0.21631178\n",
      "Iteration 52, loss = 0.21623519\n",
      "Iteration 53, loss = 0.21551521\n",
      "Iteration 54, loss = 0.21674483\n",
      "Iteration 55, loss = 0.21586454\n",
      "Iteration 56, loss = 0.21628039\n",
      "Iteration 57, loss = 0.21553038\n",
      "Iteration 58, loss = 0.21690776\n",
      "Iteration 59, loss = 0.21556255\n",
      "Iteration 60, loss = 0.21553009\n",
      "Iteration 61, loss = 0.21554127\n",
      "Iteration 62, loss = 0.21528077\n",
      "Iteration 63, loss = 0.21606890\n",
      "Iteration 64, loss = 0.21544127\n",
      "Iteration 65, loss = 0.21623726\n",
      "Iteration 66, loss = 0.21571439\n",
      "Iteration 67, loss = 0.21552556\n",
      "Iteration 68, loss = 0.21610261\n",
      "Iteration 69, loss = 0.21552833\n",
      "Iteration 70, loss = 0.21477624\n",
      "Iteration 71, loss = 0.21579420\n",
      "Iteration 72, loss = 0.21568757\n",
      "Iteration 73, loss = 0.21565028\n",
      "Iteration 74, loss = 0.21384979\n",
      "Iteration 75, loss = 0.21544367\n",
      "Iteration 76, loss = 0.21636744\n",
      "Iteration 77, loss = 0.21530748\n",
      "Iteration 78, loss = 0.21454188\n",
      "Iteration 79, loss = 0.21529623\n",
      "Iteration 80, loss = 0.21425475\n",
      "Iteration 81, loss = 0.21405044\n",
      "Iteration 82, loss = 0.21485058\n",
      "Iteration 83, loss = 0.21478215\n",
      "Iteration 84, loss = 0.21537923\n",
      "Iteration 85, loss = 0.21553684\n",
      "Training loss did not improve more than tol=0.000100 for 10 consecutive epochs. Stopping.\n",
      "Training set score: 0.910606\n",
      "Accuracy of MLP:  0.905595899188381\n",
      "Confusion matrix \n",
      " [[8073  298]\n",
      " [ 586  407]]\n",
      "              precision    recall  f1-score   support\n",
      "\n",
      "           0       0.93      0.96      0.95      8371\n",
      "           1       0.58      0.41      0.48       993\n",
      "\n",
      "    accuracy                           0.91      9364\n",
      "   macro avg       0.75      0.69      0.71      9364\n",
      "weighted avg       0.89      0.91      0.90      9364\n",
      "\n"
     ]
    }
   ],
   "source": [
    "from sklearn.neural_network import MLPClassifier\n",
    "mlp = MLPClassifier(hidden_layer_sizes=(20, 3), max_iter=150, alpha=1e-4,\n",
    "                    solver='sgd', verbose=10, tol=1e-4, random_state=1,\n",
    "                    learning_rate_init=.1)\n",
    "\n",
    "mlp.fit(X_train,y_train)\n",
    "print(\"Training set score: %f\" % mlp.score(X_train,y_train))\n",
    "predictions = mlp.predict(X_test)\n",
    "\n",
    "#Check Prediction Score\n",
    "print(\"Accuracy of MLP: \",accuracy_score(y_test, predictions))\n",
    "\n",
    "#Print Classification Report\n",
    "print(\"Confusion matrix \\n\",confusion_matrix(y_test,predictions))\n",
    "print(classification_report(y_test,predictions))"
   ]
  },
  {
   "cell_type": "code",
   "execution_count": 55,
   "metadata": {},
   "outputs": [
    {
     "name": "stdout",
     "output_type": "stream",
     "text": [
      "After OverSampling, the shape of train_X: (39022, 16)\n",
      "After OverSampling, the shape of train_y: (39022,) \n",
      "\n",
      "After OverSampling, counts of label '1': 19511\n",
      "After OverSampling, counts of label '0': 19511\n"
     ]
    }
   ],
   "source": [
    "#smote - only on training set\n",
    "from imblearn.over_sampling import SMOTE\n",
    "#sm = SMOTE(sampling_strategy=0.5,random_state=42) \n",
    "sm=SMOTE(random_state=42)\n",
    "X_train_sm, y_train_sm = sm.fit_sample(X_train, y_train) \n",
    "  \n",
    "print('After OverSampling, the shape of train_X: {}'.format(X_train_sm.shape)) \n",
    "print('After OverSampling, the shape of train_y: {} \\n'.format(y_train_sm.shape)) \n",
    "  \n",
    "print(\"After OverSampling, counts of label '1': {}\".format(sum(y_train_sm == 1))) \n",
    "print(\"After OverSampling, counts of label '0': {}\".format(sum(y_train_sm == 0))) "
   ]
  },
  {
   "cell_type": "code",
   "execution_count": 56,
   "metadata": {},
   "outputs": [],
   "source": [
    "#scaling??? - required for methods using E-distance\n",
    "from sklearn.preprocessing import MinMaxScaler\n",
    "trans = MinMaxScaler()\n",
    "train_data = trans.fit_transform(X_train_sm)\n",
    "test_data = trans.fit_transform(X_test)"
   ]
  },
  {
   "cell_type": "code",
   "execution_count": 62,
   "metadata": {},
   "outputs": [
    {
     "name": "stdout",
     "output_type": "stream",
     "text": [
      "Accuracy of Logistic Regression after SMOTE:  0.8180264844083724\n",
      "Confusion matrix \n",
      " [[6926 1445]\n",
      " [ 259  734]]\n",
      "              precision    recall  f1-score   support\n",
      "\n",
      "           0       0.96      0.83      0.89      8371\n",
      "           1       0.34      0.74      0.46       993\n",
      "\n",
      "    accuracy                           0.82      9364\n",
      "   macro avg       0.65      0.78      0.68      9364\n",
      "weighted avg       0.90      0.82      0.85      9364\n",
      "\n"
     ]
    }
   ],
   "source": [
    "logreg = linear_model.LogisticRegression()\n",
    "grid={\"C\":[0.001,.009,0.01,.09,1,5,10,25], \"penalty\":[\"l1\",\"l2\"]}\n",
    "clf_lr2 = GridSearchCV(logreg, grid, cv=5, verbose=0)\n",
    "best_model_lr = clf_lr2.fit(train_data, y_train_sm)\n",
    "y_pred_lr=best_model_lr.predict(test_data)\n",
    "#Check Prediction Score\n",
    "print(\"Accuracy of Logistic Regression after SMOTE: \",accuracy_score(y_test, y_pred_lr))\n",
    "\n",
    "#Print Classification Report\n",
    "print(\"Confusion matrix \\n\",confusion_matrix(y_test,y_pred_lr))\n",
    "print(classification_report(y_test,y_pred_lr))"
   ]
  },
  {
   "cell_type": "code",
   "execution_count": 58,
   "metadata": {},
   "outputs": [
    {
     "name": "stdout",
     "output_type": "stream",
     "text": [
      "Accuracy of Random Forest:  0.8978000854335754\n",
      "Confusion matrix \n",
      " [[7907  464]\n",
      " [ 493  500]]\n",
      "              precision    recall  f1-score   support\n",
      "\n",
      "           0       0.94      0.94      0.94      8371\n",
      "           1       0.52      0.50      0.51       993\n",
      "\n",
      "    accuracy                           0.90      9364\n",
      "   macro avg       0.73      0.72      0.73      9364\n",
      "weighted avg       0.90      0.90      0.90      9364\n",
      "\n"
     ]
    }
   ],
   "source": [
    "model= RandomForestClassifier(random_state=1234)\n",
    "\n",
    "#Hyper Parameters Set\n",
    "param_grid = {'criterion':['gini','entropy'],\n",
    "          'n_estimators':[10,15,20,25,30],\n",
    "          'min_samples_leaf':[1,2,3],\n",
    "          'min_samples_split':[3,4,5,6,7], \n",
    "          'random_state':[123],\n",
    "          'n_jobs':[-1]}\n",
    "\n",
    "# Create grid search object\n",
    "clf_rf = GridSearchCV(model, param_grid=param_grid, n_jobs=-1, cv=10)\n",
    "best_rf_sm = clf_rf.fit(train_data, y_train_sm)\n",
    "predictions_rf = best_rf_sm.predict(test_data)\n",
    "\n",
    "#Check Prediction Score\n",
    "print(\"Accuracy of Random Forest: \",accuracy_score(y_test, predictions_rf))\n",
    "\n",
    "#Print Classification Report\n",
    "print(\"Confusion matrix \\n\",confusion_matrix(y_test,predictions_rf))\n",
    "print(classification_report(y_test,predictions_rf))"
   ]
  },
  {
   "cell_type": "code",
   "execution_count": null,
   "metadata": {},
   "outputs": [],
   "source": [
    "gridsvm.fit(train_data, y_train_sm)   \n",
    "# print prediction results \n",
    "predictions_svm_sm = gridsvm.predict(test_data) \n",
    "print(\"Accuracy of SVM: \",accuracy_score(y_test, predictions_svm_sm))\n",
    "\n",
    "print(classification_report(y_test, predictions_svm_sm))"
   ]
  },
  {
   "cell_type": "code",
   "execution_count": 59,
   "metadata": {},
   "outputs": [
    {
     "name": "stdout",
     "output_type": "stream",
     "text": [
      "Iteration 1, loss = 0.45419456\n",
      "Iteration 2, loss = 0.37337429\n",
      "Iteration 3, loss = 0.36112881\n",
      "Iteration 4, loss = 0.35177134\n",
      "Iteration 5, loss = 0.34507552\n",
      "Iteration 6, loss = 0.34057793\n",
      "Iteration 7, loss = 0.33468860\n",
      "Iteration 8, loss = 0.33069563\n",
      "Iteration 9, loss = 0.32988817\n",
      "Iteration 10, loss = 0.32794072\n",
      "Iteration 11, loss = 0.32652008\n",
      "Iteration 12, loss = 0.32368279\n",
      "Iteration 13, loss = 0.32393664\n",
      "Iteration 14, loss = 0.32233345\n",
      "Iteration 15, loss = 0.32245811\n",
      "Iteration 16, loss = 0.32022704\n",
      "Iteration 17, loss = 0.31918431\n",
      "Iteration 18, loss = 0.31812450\n",
      "Iteration 19, loss = 0.31599594\n",
      "Iteration 20, loss = 0.31470256\n",
      "Iteration 21, loss = 0.31480704\n",
      "Iteration 22, loss = 0.31379733\n",
      "Iteration 23, loss = 0.31408201\n",
      "Iteration 24, loss = 0.31320264\n",
      "Iteration 25, loss = 0.31216233\n",
      "Iteration 26, loss = 0.31103398\n",
      "Iteration 27, loss = 0.31176947\n",
      "Iteration 28, loss = 0.31116617\n",
      "Iteration 29, loss = 0.31058409\n",
      "Iteration 30, loss = 0.31093832\n",
      "Iteration 31, loss = 0.30931686\n",
      "Iteration 32, loss = 0.30872452\n",
      "Iteration 33, loss = 0.30762902\n",
      "Iteration 34, loss = 0.30837160\n",
      "Iteration 35, loss = 0.30818320\n",
      "Iteration 36, loss = 0.30695454\n",
      "Iteration 37, loss = 0.30653818\n",
      "Iteration 38, loss = 0.30677837\n",
      "Iteration 39, loss = 0.30626393\n",
      "Iteration 40, loss = 0.30576139\n",
      "Iteration 41, loss = 0.30607477\n",
      "Iteration 42, loss = 0.30500726\n",
      "Iteration 43, loss = 0.30578520\n",
      "Iteration 44, loss = 0.30601949\n",
      "Iteration 45, loss = 0.30596495\n",
      "Iteration 46, loss = 0.30505424\n",
      "Iteration 47, loss = 0.30408582\n",
      "Iteration 48, loss = 0.30400762\n",
      "Iteration 49, loss = 0.30357039\n",
      "Iteration 50, loss = 0.30343604\n",
      "Iteration 51, loss = 0.30325107\n",
      "Iteration 52, loss = 0.30352053\n",
      "Iteration 53, loss = 0.30281565\n",
      "Iteration 54, loss = 0.30377554\n",
      "Iteration 55, loss = 0.30195890\n",
      "Iteration 56, loss = 0.30113155\n",
      "Iteration 57, loss = 0.30227300\n",
      "Iteration 58, loss = 0.30309695\n",
      "Iteration 59, loss = 0.30205953\n",
      "Iteration 60, loss = 0.30179150\n",
      "Iteration 61, loss = 0.30179562\n",
      "Iteration 62, loss = 0.30093720\n",
      "Iteration 63, loss = 0.30105820\n",
      "Iteration 64, loss = 0.30057205\n",
      "Iteration 65, loss = 0.30025500\n",
      "Iteration 66, loss = 0.29951537\n",
      "Iteration 67, loss = 0.30048819\n",
      "Iteration 68, loss = 0.29952486\n",
      "Iteration 69, loss = 0.29942320\n",
      "Iteration 70, loss = 0.29881528\n",
      "Iteration 71, loss = 0.29890058\n",
      "Iteration 72, loss = 0.29879874\n",
      "Iteration 73, loss = 0.29979862\n",
      "Iteration 74, loss = 0.29890060\n",
      "Iteration 75, loss = 0.29790597\n",
      "Iteration 76, loss = 0.29819217\n",
      "Iteration 77, loss = 0.29833723\n",
      "Iteration 78, loss = 0.29861761\n",
      "Iteration 79, loss = 0.29754691\n",
      "Iteration 80, loss = 0.29700086\n",
      "Iteration 81, loss = 0.29706814\n",
      "Iteration 82, loss = 0.29777579\n",
      "Iteration 83, loss = 0.29668990\n",
      "Iteration 84, loss = 0.29587489\n",
      "Iteration 85, loss = 0.29778192\n",
      "Iteration 86, loss = 0.29592347\n",
      "Iteration 87, loss = 0.29542529\n",
      "Iteration 88, loss = 0.29625521\n",
      "Iteration 89, loss = 0.29710244\n",
      "Iteration 90, loss = 0.29615228\n",
      "Iteration 91, loss = 0.29585956\n",
      "Iteration 92, loss = 0.29553149\n",
      "Iteration 93, loss = 0.29665585\n",
      "Iteration 94, loss = 0.29568557\n",
      "Iteration 95, loss = 0.29561825\n",
      "Iteration 96, loss = 0.29610624\n",
      "Iteration 97, loss = 0.29505190\n",
      "Iteration 98, loss = 0.29502113\n",
      "Iteration 99, loss = 0.29547860\n",
      "Iteration 100, loss = 0.29502406\n",
      "Iteration 101, loss = 0.29474504\n",
      "Iteration 102, loss = 0.29465488\n",
      "Iteration 103, loss = 0.29387101\n",
      "Iteration 104, loss = 0.29538249\n",
      "Iteration 105, loss = 0.29593245\n",
      "Iteration 106, loss = 0.29448109\n",
      "Iteration 107, loss = 0.29374842\n",
      "Iteration 108, loss = 0.29387270\n",
      "Iteration 109, loss = 0.29367677\n",
      "Iteration 110, loss = 0.29475603\n",
      "Iteration 111, loss = 0.29432073\n",
      "Iteration 112, loss = 0.29369912\n",
      "Iteration 113, loss = 0.29308926\n",
      "Iteration 114, loss = 0.29411307\n",
      "Iteration 115, loss = 0.29391261\n",
      "Iteration 116, loss = 0.29427121\n",
      "Iteration 117, loss = 0.29326342\n",
      "Iteration 118, loss = 0.29365837\n",
      "Iteration 119, loss = 0.29341206\n",
      "Iteration 120, loss = 0.29339793\n",
      "Iteration 121, loss = 0.29266476\n",
      "Iteration 122, loss = 0.29334694\n",
      "Iteration 123, loss = 0.29358318\n",
      "Iteration 124, loss = 0.29413363\n",
      "Iteration 125, loss = 0.29335643\n",
      "Iteration 126, loss = 0.29327126\n",
      "Iteration 127, loss = 0.29299206\n",
      "Iteration 128, loss = 0.29157851\n",
      "Iteration 129, loss = 0.29282515\n",
      "Iteration 130, loss = 0.29234094\n",
      "Iteration 131, loss = 0.29356810\n",
      "Iteration 132, loss = 0.29372751\n",
      "Iteration 133, loss = 0.29294320\n",
      "Iteration 134, loss = 0.29293354\n",
      "Iteration 135, loss = 0.29258920\n",
      "Iteration 136, loss = 0.29265790\n",
      "Iteration 137, loss = 0.29329058\n",
      "Iteration 138, loss = 0.29391166\n",
      "Iteration 139, loss = 0.29251132\n",
      "Training loss did not improve more than tol=0.000100 for 10 consecutive epochs. Stopping.\n",
      "Training set score: 0.881708\n",
      "Accuracy of MLP after SMOTE:  0.8203759077317385\n",
      "Confusion matrix \n",
      " [[6904 1467]\n",
      " [ 215  778]]\n",
      "F1 score \n",
      " 0.480543545398394\n",
      "              precision    recall  f1-score   support\n",
      "\n",
      "           0       0.97      0.82      0.89      8371\n",
      "           1       0.35      0.78      0.48       993\n",
      "\n",
      "    accuracy                           0.82      9364\n",
      "   macro avg       0.66      0.80      0.69      9364\n",
      "weighted avg       0.90      0.82      0.85      9364\n",
      "\n"
     ]
    }
   ],
   "source": [
    "mlp.fit(train_data ,y_train_sm)\n",
    "print(\"Training set score: %f\" % mlp.score(train_data,y_train_sm))\n",
    "predictions_nn = mlp.predict(test_data)\n",
    "\n",
    "#Check Prediction Score\n",
    "print(\"Accuracy of MLP after SMOTE: \",accuracy_score(y_test, predictions_nn))\n",
    "\n",
    "#Print Classification Report\n",
    "print(\"Confusion matrix \\n\",confusion_matrix(y_test,predictions_nn))\n",
    "print(\"F1 score \\n\",f1_score(y_test,predictions_nn))\n",
    "print(classification_report(y_test,predictions_nn))"
   ]
  },
  {
   "cell_type": "code",
   "execution_count": 63,
   "metadata": {},
   "outputs": [],
   "source": [
    "#ADASYN\n",
    "from imblearn.over_sampling import ADASYN\n",
    "ada=ADASYN(sampling_strategy='minority',random_state=420,n_neighbors=5)\n",
    "X_res,y_res=ada.fit_resample(X_train,y_train)"
   ]
  },
  {
   "cell_type": "code",
   "execution_count": 64,
   "metadata": {},
   "outputs": [
    {
     "name": "stdout",
     "output_type": "stream",
     "text": [
      "Counter({1: 19538, 0: 19511})\n"
     ]
    }
   ],
   "source": [
    "from collections import Counter\n",
    "print(Counter(y_res))"
   ]
  },
  {
   "cell_type": "code",
   "execution_count": 65,
   "metadata": {},
   "outputs": [
    {
     "name": "stdout",
     "output_type": "stream",
     "text": [
      "Accuracy of Logistic Regression after SMOTE:  0.8055318240068347\n",
      "Confusion matrix \n",
      " [[6795 1576]\n",
      " [ 245  748]]\n",
      "              precision    recall  f1-score   support\n",
      "\n",
      "           0       0.97      0.81      0.88      8371\n",
      "           1       0.32      0.75      0.45       993\n",
      "\n",
      "    accuracy                           0.81      9364\n",
      "   macro avg       0.64      0.78      0.67      9364\n",
      "weighted avg       0.90      0.81      0.84      9364\n",
      "\n"
     ]
    }
   ],
   "source": [
    "logreg = linear_model.LogisticRegression()\n",
    "grid={\"C\":[0.001,.009,0.01,.09,1,5,10,25], \"penalty\":[\"l1\",\"l2\"]}\n",
    "clf_lr3 = GridSearchCV(logreg, grid, cv=5, verbose=0)\n",
    "best_model_lr3 = clf_lr3.fit(X_res, y_res)\n",
    "y_pred_lr3=best_model_lr3.predict(X_test)\n",
    "#Check Prediction Score\n",
    "print(\"Accuracy of Logistic Regression after SMOTE: \",accuracy_score(y_test, y_pred_lr3))\n",
    "\n",
    "#Print Classification Report\n",
    "print(\"Confusion matrix \\n\",confusion_matrix(y_test,y_pred_lr3))\n",
    "print(classification_report(y_test,y_pred_lr3))"
   ]
  },
  {
   "cell_type": "code",
   "execution_count": 66,
   "metadata": {},
   "outputs": [
    {
     "name": "stdout",
     "output_type": "stream",
     "text": [
      "Accuracy of Random Forest:  0.5005339598462195\n",
      "Confusion matrix \n",
      " [[3917 4454]\n",
      " [ 223  770]]\n",
      "              precision    recall  f1-score   support\n",
      "\n",
      "           0       0.95      0.47      0.63      8371\n",
      "           1       0.15      0.78      0.25       993\n",
      "\n",
      "    accuracy                           0.50      9364\n",
      "   macro avg       0.55      0.62      0.44      9364\n",
      "weighted avg       0.86      0.50      0.59      9364\n",
      "\n"
     ]
    }
   ],
   "source": [
    "model= RandomForestClassifier(random_state=1234)\n",
    "\n",
    "#Hyper Parameters Set\n",
    "param_grid = {'criterion':['gini','entropy'],\n",
    "          'n_estimators':[10,15,20,25,30],\n",
    "          'min_samples_leaf':[1,2,3],\n",
    "          'min_samples_split':[3,4,5,6,7], \n",
    "          'random_state':[123],\n",
    "          'n_jobs':[-1]}\n",
    "\n",
    "# Create grid search object\n",
    "clf_rf = GridSearchCV(model, param_grid=param_grid, n_jobs=-1, cv=10)\n",
    "best_rf_sm = clf_rf.fit(X_res, y_res)\n",
    "predictions_rf = best_rf_sm.predict(test_data)\n",
    "\n",
    "#Check Prediction Score\n",
    "print(\"Accuracy of Random Forest: \",accuracy_score(y_test, predictions_rf))\n",
    "\n",
    "#Print Classification Report\n",
    "print(\"Confusion matrix \\n\",confusion_matrix(y_test,predictions_rf))\n",
    "print(classification_report(y_test,predictions_rf))"
   ]
  },
  {
   "cell_type": "code",
   "execution_count": 67,
   "metadata": {},
   "outputs": [
    {
     "name": "stdout",
     "output_type": "stream",
     "text": [
      "Iteration 1, loss = 0.45419456\n",
      "Iteration 2, loss = 0.37337429\n",
      "Iteration 3, loss = 0.36112881\n",
      "Iteration 4, loss = 0.35177134\n",
      "Iteration 5, loss = 0.34507552\n",
      "Iteration 6, loss = 0.34057793\n",
      "Iteration 7, loss = 0.33468860\n",
      "Iteration 8, loss = 0.33069563\n",
      "Iteration 9, loss = 0.32988817\n",
      "Iteration 10, loss = 0.32794072\n",
      "Iteration 11, loss = 0.32652008\n",
      "Iteration 12, loss = 0.32368279\n",
      "Iteration 13, loss = 0.32393664\n",
      "Iteration 14, loss = 0.32233345\n",
      "Iteration 15, loss = 0.32245811\n",
      "Iteration 16, loss = 0.32022704\n",
      "Iteration 17, loss = 0.31918431\n",
      "Iteration 18, loss = 0.31812450\n",
      "Iteration 19, loss = 0.31599594\n",
      "Iteration 20, loss = 0.31470256\n",
      "Iteration 21, loss = 0.31480704\n",
      "Iteration 22, loss = 0.31379733\n",
      "Iteration 23, loss = 0.31408201\n",
      "Iteration 24, loss = 0.31320264\n",
      "Iteration 25, loss = 0.31216233\n",
      "Iteration 26, loss = 0.31103398\n",
      "Iteration 27, loss = 0.31176947\n",
      "Iteration 28, loss = 0.31116617\n",
      "Iteration 29, loss = 0.31058409\n",
      "Iteration 30, loss = 0.31093832\n",
      "Iteration 31, loss = 0.30931686\n",
      "Iteration 32, loss = 0.30872452\n",
      "Iteration 33, loss = 0.30762902\n",
      "Iteration 34, loss = 0.30837160\n",
      "Iteration 35, loss = 0.30818320\n",
      "Iteration 36, loss = 0.30695454\n",
      "Iteration 37, loss = 0.30653818\n",
      "Iteration 38, loss = 0.30677837\n",
      "Iteration 39, loss = 0.30626393\n",
      "Iteration 40, loss = 0.30576139\n",
      "Iteration 41, loss = 0.30607477\n",
      "Iteration 42, loss = 0.30500726\n",
      "Iteration 43, loss = 0.30578520\n",
      "Iteration 44, loss = 0.30601949\n",
      "Iteration 45, loss = 0.30596495\n",
      "Iteration 46, loss = 0.30505424\n",
      "Iteration 47, loss = 0.30408582\n",
      "Iteration 48, loss = 0.30400762\n",
      "Iteration 49, loss = 0.30357039\n",
      "Iteration 50, loss = 0.30343604\n",
      "Iteration 51, loss = 0.30325107\n",
      "Iteration 52, loss = 0.30352053\n",
      "Iteration 53, loss = 0.30281565\n",
      "Iteration 54, loss = 0.30377554\n",
      "Iteration 55, loss = 0.30195890\n",
      "Iteration 56, loss = 0.30113155\n",
      "Iteration 57, loss = 0.30227300\n",
      "Iteration 58, loss = 0.30309695\n",
      "Iteration 59, loss = 0.30205953\n",
      "Iteration 60, loss = 0.30179150\n",
      "Iteration 61, loss = 0.30179562\n",
      "Iteration 62, loss = 0.30093720\n",
      "Iteration 63, loss = 0.30105820\n",
      "Iteration 64, loss = 0.30057205\n",
      "Iteration 65, loss = 0.30025500\n",
      "Iteration 66, loss = 0.29951537\n",
      "Iteration 67, loss = 0.30048819\n",
      "Iteration 68, loss = 0.29952486\n",
      "Iteration 69, loss = 0.29942320\n",
      "Iteration 70, loss = 0.29881528\n",
      "Iteration 71, loss = 0.29890058\n",
      "Iteration 72, loss = 0.29879874\n",
      "Iteration 73, loss = 0.29979862\n",
      "Iteration 74, loss = 0.29890060\n",
      "Iteration 75, loss = 0.29790597\n",
      "Iteration 76, loss = 0.29819217\n",
      "Iteration 77, loss = 0.29833723\n",
      "Iteration 78, loss = 0.29861761\n",
      "Iteration 79, loss = 0.29754691\n",
      "Iteration 80, loss = 0.29700086\n",
      "Iteration 81, loss = 0.29706814\n",
      "Iteration 82, loss = 0.29777579\n",
      "Iteration 83, loss = 0.29668990\n",
      "Iteration 84, loss = 0.29587489\n",
      "Iteration 85, loss = 0.29778192\n",
      "Iteration 86, loss = 0.29592347\n",
      "Iteration 87, loss = 0.29542529\n",
      "Iteration 88, loss = 0.29625521\n",
      "Iteration 89, loss = 0.29710244\n",
      "Iteration 90, loss = 0.29615228\n",
      "Iteration 91, loss = 0.29585956\n",
      "Iteration 92, loss = 0.29553149\n",
      "Iteration 93, loss = 0.29665585\n",
      "Iteration 94, loss = 0.29568557\n",
      "Iteration 95, loss = 0.29561825\n",
      "Iteration 96, loss = 0.29610624\n",
      "Iteration 97, loss = 0.29505190\n",
      "Iteration 98, loss = 0.29502113\n",
      "Iteration 99, loss = 0.29547860\n",
      "Iteration 100, loss = 0.29502406\n",
      "Iteration 101, loss = 0.29474504\n",
      "Iteration 102, loss = 0.29465488\n",
      "Iteration 103, loss = 0.29387101\n",
      "Iteration 104, loss = 0.29538249\n",
      "Iteration 105, loss = 0.29593245\n",
      "Iteration 106, loss = 0.29448109\n",
      "Iteration 107, loss = 0.29374842\n",
      "Iteration 108, loss = 0.29387270\n",
      "Iteration 109, loss = 0.29367677\n",
      "Iteration 110, loss = 0.29475603\n",
      "Iteration 111, loss = 0.29432073\n",
      "Iteration 112, loss = 0.29369912\n",
      "Iteration 113, loss = 0.29308926\n",
      "Iteration 114, loss = 0.29411307\n",
      "Iteration 115, loss = 0.29391261\n",
      "Iteration 116, loss = 0.29427121\n",
      "Iteration 117, loss = 0.29326342\n",
      "Iteration 118, loss = 0.29365837\n",
      "Iteration 119, loss = 0.29341206\n",
      "Iteration 120, loss = 0.29339793\n",
      "Iteration 121, loss = 0.29266476\n",
      "Iteration 122, loss = 0.29334694\n",
      "Iteration 123, loss = 0.29358318\n",
      "Iteration 124, loss = 0.29413363\n",
      "Iteration 125, loss = 0.29335643\n",
      "Iteration 126, loss = 0.29327126\n",
      "Iteration 127, loss = 0.29299206\n",
      "Iteration 128, loss = 0.29157851\n",
      "Iteration 129, loss = 0.29282515\n",
      "Iteration 130, loss = 0.29234094\n",
      "Iteration 131, loss = 0.29356810\n",
      "Iteration 132, loss = 0.29372751\n",
      "Iteration 133, loss = 0.29294320\n",
      "Iteration 134, loss = 0.29293354\n",
      "Iteration 135, loss = 0.29258920\n",
      "Iteration 136, loss = 0.29265790\n",
      "Iteration 137, loss = 0.29329058\n",
      "Iteration 138, loss = 0.29391166\n",
      "Iteration 139, loss = 0.29251132\n",
      "Training loss did not improve more than tol=0.000100 for 10 consecutive epochs. Stopping.\n",
      "Training set score: 0.686496\n",
      "Accuracy of MLP after SMOTE:  0.8203759077317385\n",
      "Confusion matrix \n",
      " [[6904 1467]\n",
      " [ 215  778]]\n",
      "F1 score \n",
      " 0.480543545398394\n",
      "              precision    recall  f1-score   support\n",
      "\n",
      "           0       0.97      0.82      0.89      8371\n",
      "           1       0.35      0.78      0.48       993\n",
      "\n",
      "    accuracy                           0.82      9364\n",
      "   macro avg       0.66      0.80      0.69      9364\n",
      "weighted avg       0.90      0.82      0.85      9364\n",
      "\n"
     ]
    }
   ],
   "source": [
    "mlp.fit(train_data ,y_train_sm)\n",
    "print(\"Training set score: %f\" % mlp.score(X_res,y_res))\n",
    "predictions_nn = mlp.predict(test_data)\n",
    "\n",
    "#Check Prediction Score\n",
    "print(\"Accuracy of MLP after SMOTE: \",accuracy_score(y_test, predictions_nn))\n",
    "\n",
    "#Print Classification Report\n",
    "print(\"Confusion matrix \\n\",confusion_matrix(y_test,predictions_nn))\n",
    "print(\"F1 score \\n\",f1_score(y_test,predictions_nn))\n",
    "print(classification_report(y_test,predictions_nn))"
   ]
  },
  {
   "cell_type": "code",
   "execution_count": null,
   "metadata": {},
   "outputs": [],
   "source": []
  }
 ],
 "metadata": {
  "kernelspec": {
   "display_name": "Python 3",
   "language": "python",
   "name": "python3"
  },
  "language_info": {
   "codemirror_mode": {
    "name": "ipython",
    "version": 3
   },
   "file_extension": ".py",
   "mimetype": "text/x-python",
   "name": "python",
   "nbconvert_exporter": "python",
   "pygments_lexer": "ipython3",
   "version": "3.8.3"
  }
 },
 "nbformat": 4,
 "nbformat_minor": 4
}
